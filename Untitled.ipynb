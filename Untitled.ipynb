{
 "cells": [
  {
   "cell_type": "code",
   "execution_count": 1,
   "metadata": {},
   "outputs": [
    {
     "name": "stderr",
     "output_type": "stream",
     "text": [
      "/Users/satya/Anaconda/anaconda3/lib/python3.6/site-packages/statsmodels/compat/pandas.py:56: FutureWarning: The pandas.core.datetools module is deprecated and will be removed in a future version. Please use the pandas.tseries module instead.\n",
      "  from pandas.core import datetools\n"
     ]
    }
   ],
   "source": [
    "import pandas as pd\n",
    "import matplotlib.pyplot as plt\n",
    "import calendar\n",
    "import json\n",
    "import numpy as np\n",
    "from sklearn.model_selection import KFold\n",
    "from sklearn.ensemble import RandomForestRegressor\n",
    "from sklearn import tree\n",
    "import collections\n",
    "from sklearn.linear_model import LinearRegression\n",
    "from sklearn.metrics import mean_squared_error,accuracy_score\n",
    "from sklearn.model_selection import cross_val_predict\n",
    "from sklearn.model_selection import train_test_split\n",
    "from sklearn.preprocessing import StandardScaler\n",
    "import itertools\n",
    "from sklearn.preprocessing import OneHotEncoder\n",
    "from sklearn.linear_model import Ridge,Lasso,ElasticNet\n",
    "from sklearn.model_selection import GridSearchCV\n",
    "import datetime, time\n",
    "import pytz\n",
    "import statsmodels.api as stats_api\n",
    "import pickle as pickle_\n",
    "import csv"
   ]
  },
  {
   "cell_type": "code",
   "execution_count": 2,
   "metadata": {
    "collapsed": true
   },
   "outputs": [],
   "source": [
    "hashtags = ['#gopatriots','#nfl','#sb49','#gohawks','#patriots','#superbowl'] #using only one tag\n",
    "#hashtags = ['#sb49','#gohawks','#patriots','#superbowl'] #using only one tag\n",
    "df_map = {} # to store dfs for each file"
   ]
  },
  {
   "cell_type": "code",
   "execution_count": null,
   "metadata": {
    "collapsed": true
   },
   "outputs": [],
   "source": [
    "import os\n",
    "df_columns = ['timestamp','tweet_id','author_id','followers','retweets','title','location']\n",
    "bypass = False\n",
    "for hashtag in hashtags:\n",
    "    df = pd.DataFrame(columns=df_columns)\n",
    "    lno = 0\n",
    "    print(\"Processing \",hashtag)\n",
    "    with open(\"tweet_data/tweets_\"+hashtag+\".txt\", \"r\") as file_obj:\n",
    "        if(not os.path.isfile('temp3/'+hashtag+'.csv') or bypass):\n",
    "            writer=csv.writer(open('temp3/'+hashtag+'.csv','w'))\n",
    "            writer.writerow(df_columns)\n",
    "            line = file_obj.readline()\n",
    "            while(line):\n",
    "                if(lno%20000 == 0):\n",
    "                    print(lno)\n",
    "                j = json.loads(line)\n",
    "                lno+=1\n",
    "                timestamp =j['citation_date']\n",
    "                followers =j['author']['followers']\n",
    "                retweets = j['metrics']['citations']['total']\n",
    "                author_id = j['author']['url']\n",
    "                tweet_id = j['tweet']['id']\n",
    "                title = j['title']\n",
    "                location=j['tweet']['user']['location']\n",
    "                writer.writerow([timestamp,tweet_id,author_id,followers,retweets,title,location])\n",
    "                line = file_obj.readline()\n",
    "        else:\n",
    "            print(\"File Exists!\")\n",
    "            #writer.close()"
   ]
  }
 ],
 "metadata": {
  "kernelspec": {
   "display_name": "Python 3",
   "language": "python",
   "name": "python3"
  },
  "language_info": {
   "codemirror_mode": {
    "name": "ipython",
    "version": 3
   },
   "file_extension": ".py",
   "mimetype": "text/x-python",
   "name": "python",
   "nbconvert_exporter": "python",
   "pygments_lexer": "ipython3",
   "version": "3.6.3"
  }
 },
 "nbformat": 4,
 "nbformat_minor": 2
}

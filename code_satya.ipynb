{
 "cells": [
  {
   "cell_type": "code",
   "execution_count": 1,
   "metadata": {},
   "outputs": [
    {
     "name": "stderr",
     "output_type": "stream",
     "text": [
      "/Users/satya/Anaconda/anaconda3/lib/python3.6/site-packages/statsmodels/compat/pandas.py:56: FutureWarning: The pandas.core.datetools module is deprecated and will be removed in a future version. Please use the pandas.tseries module instead.\n",
      "  from pandas.core import datetools\n"
     ]
    }
   ],
   "source": [
    "import pandas as pd\n",
    "import matplotlib.pyplot as plt\n",
    "import calendar\n",
    "import json\n",
    "import numpy as np\n",
    "from sklearn.model_selection import KFold\n",
    "from sklearn.ensemble import RandomForestRegressor\n",
    "from sklearn import tree\n",
    "import collections\n",
    "from sklearn.linear_model import LinearRegression\n",
    "from sklearn.metrics import mean_squared_error,accuracy_score\n",
    "from sklearn.model_selection import cross_val_predict\n",
    "from sklearn.model_selection import train_test_split\n",
    "from sklearn.preprocessing import StandardScaler\n",
    "import itertools\n",
    "from sklearn.preprocessing import OneHotEncoder\n",
    "from sklearn.linear_model import Ridge,Lasso,ElasticNet\n",
    "from sklearn.model_selection import GridSearchCV\n",
    "import datetime, time\n",
    "import pytz\n",
    "import statsmodels.api as stats_api\n",
    "import pickle as pickle_\n",
    "import csv"
   ]
  },
  {
   "cell_type": "markdown",
   "metadata": {},
   "source": [
    "# 1. Popularity Prediction"
   ]
  },
  {
   "cell_type": "markdown",
   "metadata": {},
   "source": [
    "#### Initialize variables"
   ]
  },
  {
   "cell_type": "code",
   "execution_count": 2,
   "metadata": {
    "collapsed": true
   },
   "outputs": [],
   "source": [
    "hashtags = ['#gopatriots','#nfl','#sb49','#gohawks','#patriots','#superbowl'] #using only one tag\n",
    "#hashtags = ['#sb49','#gohawks','#patriots','#superbowl'] #using only one tag\n",
    "df_map = {} # to store dfs for each file"
   ]
  },
  {
   "cell_type": "markdown",
   "metadata": {},
   "source": [
    "#### Reading files into dataframes and storing"
   ]
  },
  {
   "cell_type": "code",
   "execution_count": 3,
   "metadata": {
    "scrolled": true
   },
   "outputs": [
    {
     "name": "stdout",
     "output_type": "stream",
     "text": [
      "Processing  #gopatriots\n",
      "File Exists!\n",
      "Processing  #nfl\n",
      "File Exists!\n",
      "Processing  #sb49\n",
      "File Exists!\n",
      "Processing  #gohawks\n",
      "File Exists!\n",
      "Processing  #patriots\n",
      "File Exists!\n",
      "Processing  #superbowl\n",
      "File Exists!\n"
     ]
    }
   ],
   "source": [
    "import os\n",
    "df_columns = ['timestamp','tweet_id','author_id','followers','retweets','title','location']\n",
    "bypass = False\n",
    "for hashtag in hashtags:\n",
    "    df = pd.DataFrame(columns=df_columns)\n",
    "    lno = 0\n",
    "    print(\"Processing \",hashtag)\n",
    "    with open(\"tweet_data/tweets_\"+hashtag+\".txt\", \"r\") as file_obj:\n",
    "        if(not os.path.isfile('temp/'+hashtag+'.csv') or bypass):\n",
    "            writer=csv.writer(open('temp/'+hashtag+'.csv','w'))\n",
    "            writer.writerow(df_columns)\n",
    "            line = file_obj.readline()\n",
    "            while(line):\n",
    "                if(lno%20000 == 0):\n",
    "                    print(lno)\n",
    "                j = json.loads(line)\n",
    "                lno+=1\n",
    "                timestamp =j['citation_date']\n",
    "                followers =j['author']['followers']\n",
    "                retweets = j['metrics']['citations']['total']\n",
    "                author_id = j['author']['url']\n",
    "                tweet_id = j['tweet']['id']\n",
    "                title = j['title']\n",
    "                location=j['tweet']['user']['location']\n",
    "                writer.writerow([timestamp,tweet_id,author_id,followers,retweets,title,location])\n",
    "                line = file_obj.readline()\n",
    "        else:\n",
    "            print(\"File Exists!\")\n",
    "            #writer.close()"
   ]
  },
  {
   "cell_type": "code",
   "execution_count": 4,
   "metadata": {
    "collapsed": true
   },
   "outputs": [],
   "source": [
    "df_map = {}"
   ]
  },
  {
   "cell_type": "code",
   "execution_count": 84,
   "metadata": {},
   "outputs": [
    {
     "name": "stdout",
     "output_type": "stream",
     "text": [
      "loaded dataframe #gopatriots\n",
      "loaded dataframe #nfl\n",
      "loaded dataframe #sb49\n",
      "loaded dataframe #gohawks\n",
      "loaded dataframe #patriots\n",
      "loaded dataframe #superbowl\n"
     ]
    }
   ],
   "source": [
    "for hashtag in hashtags:\n",
    "    print('loaded dataframe',hashtag)\n",
    "    df_map[hashtag] = pd.read_csv('temp/'+hashtag+'.csv')\n"
   ]
  },
  {
   "cell_type": "markdown",
   "metadata": {},
   "source": [
    "## 1.1 Statistics"
   ]
  },
  {
   "cell_type": "code",
   "execution_count": 6,
   "metadata": {},
   "outputs": [
    {
     "name": "stdout",
     "output_type": "stream",
     "text": [
      "#gopatriots\n",
      "timestamp    26232\n",
      "tweet_id     26232\n",
      "author_id    26232\n",
      "followers    26232\n",
      "retweets     26232\n",
      "title        26232\n",
      "location     17486\n",
      "dtype: int64\n",
      "#nfl\n",
      "timestamp    259024\n",
      "tweet_id     259024\n",
      "author_id    259024\n",
      "followers    259024\n",
      "retweets     259024\n",
      "title        259024\n",
      "location     184522\n",
      "dtype: int64\n",
      "#sb49\n",
      "timestamp    826951\n",
      "tweet_id     826951\n",
      "author_id    826951\n",
      "followers    826951\n",
      "retweets     826951\n",
      "title        826951\n",
      "location     465648\n",
      "dtype: int64\n",
      "#gohawks\n",
      "timestamp    188136\n",
      "tweet_id     188136\n",
      "author_id    188136\n",
      "followers    188136\n",
      "retweets     188136\n",
      "title        188136\n",
      "location     136453\n",
      "dtype: int64\n",
      "#patriots\n",
      "timestamp    489713\n",
      "tweet_id     489713\n",
      "author_id    489713\n",
      "followers    489713\n",
      "retweets     489713\n",
      "title        489713\n",
      "location     292030\n",
      "dtype: int64\n",
      "#superbowl\n",
      "timestamp    1348761\n",
      "tweet_id     1348761\n",
      "author_id    1348761\n",
      "followers    1348761\n",
      "retweets     1348761\n",
      "title        1348761\n",
      "location      989492\n",
      "dtype: int64\n"
     ]
    }
   ],
   "source": [
    "for hashtag in hashtags:\n",
    "    print(hashtag)\n",
    "    df = df_map[hashtag]\n",
    "    print(df.count())"
   ]
  },
  {
   "cell_type": "code",
   "execution_count": 37,
   "metadata": {},
   "outputs": [
    {
     "name": "stdout",
     "output_type": "stream",
     "text": [
      "#gopatriots\n",
      "#nfl\n",
      "#sb49\n",
      "#gohawks\n",
      "#patriots\n",
      "#superbowl\n"
     ]
    }
   ],
   "source": [
    "tweets_hrly = {}\n",
    "retweets_avg = {}\n",
    "followers_hrly = {}\n",
    "tweets_cnt = {}\n",
    "retweets_cnt = {}\n",
    "followers_cnt = {}\n",
    "\n",
    "for hashtag in hashtags:\n",
    "    print(hashtag)\n",
    "    df = df_map[hashtag]\n",
    "    sec = df['timestamp'].max() - df['timestamp'].min()   \n",
    "    tweets_cnt[hashtag] = df['tweet_id'].count()\n",
    "    retweets_cnt[hashtag] = df['retweets'].sum()\n",
    "    followers_cnt[hashtag] = df['followers'].sum()\n",
    "    tweets_hrly[hashtag] = (tweets_cnt[hashtag]*3600)/sec\n",
    "    retweets_avg[hashtag] = (retweets_cnt[hashtag])/tweets_cnt[hashtag]\n",
    "    followers_hrly[hashtag] = (followers_cnt[hashtag]*3600)/sec    \n"
   ]
  },
  {
   "cell_type": "code",
   "execution_count": 38,
   "metadata": {},
   "outputs": [
    {
     "name": "stdout",
     "output_type": "stream",
     "text": [
      "Tweets Count :  {'#gopatriots': 26232, '#nfl': 259024, '#sb49': 826951, '#gohawks': 188136, '#patriots': 489713, '#superbowl': 1348761}\n",
      "Tweets Avg. hourly {'#gopatriots': 45.694510573562027, '#nfl': 441.3234311373958, '#sb49': 1419.8879074871904, '#gohawks': 325.3715913043311, '#patriots': 834.55550916418849, '#superbowl': 2309.9309809384081}\n",
      "Retweets Count :  {'#gopatriots': 36727, '#nfl': 398517, '#sb49': 2076597, '#gohawks': 379022, '#patriots': 873068, '#superbowl': 3221210}\n",
      "Retweets Avg. hourly {'#gopatriots': 1.4000838670326319, '#nfl': 1.5385331089011056, '#sb49': 2.5111487863247035, '#gohawks': 2.014617085512608, '#patriots': 1.7828156491659402, '#superbowl': 2.3882733857221554}\n",
      "Followers Count :  {'#gopatriots': 36774523.0, '#nfl': 1205304020.0, '#sb49': 8490567936.0, '#gohawks': 414638907.0, '#patriots': 1620939662.0, '#superbowl': 11948576274.0}\n",
      "Followers Avg. hourly {'#gopatriots': 36774523.0, '#nfl': 1205304020.0, '#sb49': 8490567936.0, '#gohawks': 414638907.0, '#patriots': 1620939662.0, '#superbowl': 11948576274.0}\n"
     ]
    }
   ],
   "source": [
    "print('Tweets Count : ',tweets_cnt)\n",
    "print('Tweets Avg. hourly',tweets_hrly)\n",
    "print('Retweets Count : ',retweets_cnt)\n",
    "print('Retweets Avg. hourly',retweets_avg)\n",
    "\n",
    "print('Followers Count : ',followers_cnt)\n",
    "print('Followers Avg. hourly',followers_cnt)"
   ]
  },
  {
   "cell_type": "code",
   "execution_count": 40,
   "metadata": {},
   "outputs": [
    {
     "data": {
      "image/png": "[encoded data removed]",
      "text/plain": [
       "<matplotlib.figure.Figure at 0x1c3d1deba8>"
      ]
     },
     "metadata": {},
     "output_type": "display_data"
    },
    {
     "data": {
      "image/png": "[encoded data removed]",
      "text/plain": [
       "<matplotlib.figure.Figure at 0x1c3b7e5a90>"
      ]
     },
     "metadata": {},
     "output_type": "display_data"
    },
    {
     "data": {
      "image/png": "[encoded data removed]",
      "text/plain": [
       "<matplotlib.figure.Figure at 0x1c421d4eb8>"
      ]
     },
     "metadata": {},
     "output_type": "display_data"
    }
   ],
   "source": [
    "plt.bar(tweets_hrly.keys(),tweets_hrly.values(), width=0.5, color='#039BE5')\n",
    "plt.title('Bar Graph of hourly tweets statistics')\n",
    "plt.xlabel('Hashtags')\n",
    "plt.ylabel('Avg. Tweets per hour')\n",
    "plt.show()\n",
    "plt.bar(retweets_avg.keys(),retweets_avg.values(), width=0.5, color='#039BE5')\n",
    "plt.title('Bar Graph of retweets statistics')\n",
    "plt.xlabel('Hashtags')\n",
    "plt.ylabel('Avg. Retweets per tweet')\n",
    "plt.show()\n",
    "plt.bar(followers_hrly.keys(),followers_hrly.values(), width=0.5, color='#039BE5')\n",
    "plt.title('Bar Graph of hourly followers statistics')\n",
    "plt.xlabel('Hashtags')\n",
    "plt.ylabel('Avg. Followers per hour')\n",
    "plt.show()"
   ]
  },
  {
   "cell_type": "markdown",
   "metadata": {},
   "source": [
    "#### Returns the hour number from timestamp"
   ]
  },
  {
   "cell_type": "code",
   "execution_count": 7,
   "metadata": {
    "collapsed": true
   },
   "outputs": [],
   "source": [
    "pst_tz = pytz.timezone('US/Mountain')\n",
    "def getHourofDay(timestamp):\n",
    "    #print(timestamp)\n",
    "    return datetime.datetime.fromtimestamp(timestamp, pst_tz)\n",
    "\n",
    "    \n",
    "def getHour(timestamp):\n",
    "    return int(timestamp/3600)"
   ]
  },
  {
   "cell_type": "code",
   "execution_count": 16,
   "metadata": {},
   "outputs": [
    {
     "name": "stdout",
     "output_type": "stream",
     "text": [
      "#gopatriots\n",
      "   timestamp  tweet_id\n",
      "0     394785         1\n",
      "447\n",
      "#nfl\n",
      "   timestamp  tweet_id\n",
      "0     394784        59\n",
      "583\n",
      "#sb49\n",
      "   timestamp  tweet_id\n",
      "0     394788         1\n",
      "541\n",
      "#gohawks\n",
      "   timestamp  tweet_id\n",
      "0     394784        30\n",
      "572\n",
      "#patriots\n",
      "   timestamp  tweet_id\n",
      "0     394784        23\n",
      "587\n",
      "#superbowl\n",
      "   timestamp  tweet_id\n",
      "0     394784         8\n",
      "585\n"
     ]
    },
    {
     "data": {
      "image/png": "[encoded data removed]",
      "text/plain": [
       "<matplotlib.figure.Figure at 0x1c3d1b9b38>"
      ]
     },
     "metadata": {},
     "output_type": "display_data"
    }
   ],
   "source": [
    "for hashtag in hashtags:\n",
    "    print(hashtag)\n",
    "    df = df_map[hashtag].copy()\n",
    "    df['timestamp'] = df['timestamp'].apply(lambda x:getHour(x) )\n",
    "    grouped = df.groupby('timestamp').agg({'tweet_id':'count'})\n",
    "    #grouped.columns = [\"_\".join(x) for x in grouped.columns.ravel()]\n",
    "    #grouped.columns=grouped.columns.droplevel()\n",
    "    grouped.reset_index(inplace=True)\n",
    "    print(grouped.head(1))\n",
    "    plt.plot(list(grouped['tweet_id']),label=hashtag)\n",
    "    plt.title('Number of Tweets in hour')\n",
    "    print(len(list(grouped['tweet_id'])))\n",
    "plt.legend()\n",
    "plt.show()\n"
   ]
  },
  {
   "cell_type": "markdown",
   "metadata": {},
   "source": [
    "## 1.2 Linear Regression"
   ]
  },
  {
   "cell_type": "code",
   "execution_count": 49,
   "metadata": {
    "scrolled": false
   },
   "outputs": [
    {
     "name": "stdout",
     "output_type": "stream",
     "text": [
      "#gopatriots\n",
      "   timestamp  followers_sum  followers_max  tweet_id_count  retweets_sum  \\\n",
      "0     394785        10955.0        10955.0               1             4   \n",
      "1     394786         1762.0         1762.0               1             3   \n",
      "\n",
      "   hour_of_day  \n",
      "0            2  \n",
      "1            3  \n",
      "#nfl\n",
      "   timestamp  followers_sum  followers_max  tweet_id_count  retweets_sum  \\\n",
      "0     394784       104976.0        10658.0              59            67   \n",
      "1     394785       107645.0        17117.0              54           193   \n",
      "\n",
      "   hour_of_day  \n",
      "0            1  \n",
      "1            2  \n",
      "#sb49\n",
      "   timestamp  followers_sum  followers_max  tweet_id_count  retweets_sum  \\\n",
      "0     394788           59.0           59.0               1             2   \n",
      "1     394790           74.0           53.0               2             2   \n",
      "\n",
      "   hour_of_day  \n",
      "0            5  \n",
      "1            7  \n",
      "#gohawks\n",
      "   timestamp  followers_sum  followers_max  tweet_id_count  retweets_sum  \\\n",
      "0     394784        24989.0        12922.0              30           460   \n",
      "1     394785         7774.0         2592.0              13            32   \n",
      "\n",
      "   hour_of_day  \n",
      "0            1  \n",
      "1            2  \n",
      "#patriots\n",
      "   timestamp  followers_sum  followers_max  tweet_id_count  retweets_sum  \\\n",
      "0     394784       114149.0        41818.0              23           223   \n",
      "1     394785        73013.0        19558.0              20           565   \n",
      "\n",
      "   hour_of_day  \n",
      "0            1  \n",
      "1            2  \n",
      "#superbowl\n",
      "   timestamp  followers_sum  followers_max  tweet_id_count  retweets_sum  \\\n",
      "0     394784         3181.0         1495.0               8             9   \n",
      "1     394785        13031.0         7605.0               7            10   \n",
      "\n",
      "   hour_of_day  \n",
      "0            1  \n",
      "1            2  \n"
     ]
    }
   ],
   "source": [
    "X_map = {}\n",
    "Y_map = {}\n",
    "for hashtag in hashtags:\n",
    "    print(hashtag)\n",
    "    df = df_map[hashtag].copy()\n",
    "    df['timestamp'] = df['timestamp'].apply(lambda x:getHour(x) )\n",
    "    grouped = df.groupby('timestamp').agg({'followers': ['sum', 'max'],'tweet_id':'count', 'retweets':'sum'})\n",
    "    grouped.columns = [\"_\".join(x) for x in grouped.columns.ravel()]\n",
    "    #grouped.columns=grouped.columns.droplevel()\n",
    "    grouped.reset_index(inplace=True)\n",
    "    grouped['hour_of_day'] = grouped.apply(lambda x: getHourofDay(x['timestamp']*3600), axis=1)\n",
    "    X_map[hashtag] = grouped.drop(['timestamp'],axis=1)\n",
    "    print(grouped.head(2))\n",
    "    Y_map[hashtag] = grouped['tweet_id_count']\n",
    "    #print(grouped)\n",
    "    "
   ]
  },
  {
   "cell_type": "markdown",
   "metadata": {},
   "source": [
    "#### Method to merge n prev hours"
   ]
  },
  {
   "cell_type": "code",
   "execution_count": 54,
   "metadata": {
    "collapsed": true
   },
   "outputs": [],
   "source": [
    "#n : number of hours you want to merge\n",
    "#f : features in each row\n",
    "#x : X_map value\n",
    "#y : Y_map value\n",
    "def getprev_n_merged(n,f,X,y):\n",
    "    print(X.head(1))\n",
    "    X = X.as_matrix()\n",
    "    X_new = []\n",
    "    rnew = []\n",
    "    for row in X[:n]:\n",
    "        rnew = rnew + list(row)\n",
    "    \n",
    "    X_new.append(rnew)\n",
    "    for row in X[n:]:\n",
    "        rnew = rnew[f:]+list(row)\n",
    "        X_new.append(rnew)\n",
    "    return X_new[:-1],list(y)[n:]"
   ]
  },
  {
   "cell_type": "code",
   "execution_count": 56,
   "metadata": {},
   "outputs": [
    {
     "name": "stdout",
     "output_type": "stream",
     "text": [
      "   followers_sum  followers_max  tweet_id_count  retweets_sum  hour_of_day\n",
      "0        10955.0        10955.0               1             4            2\n"
     ]
    }
   ],
   "source": [
    "x,y= getprev_n_merged(2,5,X_map['#gopatriots'],Y_map['#gopatriots'])"
   ]
  },
  {
   "cell_type": "code",
   "execution_count": 58,
   "metadata": {},
   "outputs": [
    {
     "data": {
      "text/html": [
       "<div>\n",
       "<style>\n",
       "    .dataframe thead tr:only-child th {\n",
       "        text-align: right;\n",
       "    }\n",
       "\n",
       "    .dataframe thead th {\n",
       "        text-align: left;\n",
       "    }\n",
       "\n",
       "    .dataframe tbody tr th {\n",
       "        vertical-align: top;\n",
       "    }\n",
       "</style>\n",
       "<table border=\"1\" class=\"dataframe\">\n",
       "  <thead>\n",
       "    <tr style=\"text-align: right;\">\n",
       "      <th></th>\n",
       "      <th>followers_sum</th>\n",
       "      <th>followers_max</th>\n",
       "      <th>tweet_id_count</th>\n",
       "      <th>retweets_sum</th>\n",
       "      <th>hour_of_day</th>\n",
       "    </tr>\n",
       "  </thead>\n",
       "  <tbody>\n",
       "    <tr>\n",
       "      <th>0</th>\n",
       "      <td>10955.0</td>\n",
       "      <td>10955.0</td>\n",
       "      <td>1</td>\n",
       "      <td>4</td>\n",
       "      <td>2</td>\n",
       "    </tr>\n",
       "    <tr>\n",
       "      <th>1</th>\n",
       "      <td>1762.0</td>\n",
       "      <td>1762.0</td>\n",
       "      <td>1</td>\n",
       "      <td>3</td>\n",
       "      <td>3</td>\n",
       "    </tr>\n",
       "    <tr>\n",
       "      <th>2</th>\n",
       "      <td>1168.0</td>\n",
       "      <td>600.0</td>\n",
       "      <td>2</td>\n",
       "      <td>3</td>\n",
       "      <td>5</td>\n",
       "    </tr>\n",
       "    <tr>\n",
       "      <th>3</th>\n",
       "      <td>465.0</td>\n",
       "      <td>431.0</td>\n",
       "      <td>2</td>\n",
       "      <td>3</td>\n",
       "      <td>6</td>\n",
       "    </tr>\n",
       "    <tr>\n",
       "      <th>4</th>\n",
       "      <td>2850.0</td>\n",
       "      <td>1425.0</td>\n",
       "      <td>2</td>\n",
       "      <td>3</td>\n",
       "      <td>7</td>\n",
       "    </tr>\n",
       "  </tbody>\n",
       "</table>\n",
       "</div>"
      ],
      "text/plain": [
       "   followers_sum  followers_max  tweet_id_count  retweets_sum  hour_of_day\n",
       "0        10955.0        10955.0               1             4            2\n",
       "1         1762.0         1762.0               1             3            3\n",
       "2         1168.0          600.0               2             3            5\n",
       "3          465.0          431.0               2             3            6\n",
       "4         2850.0         1425.0               2             3            7"
      ]
     },
     "execution_count": 58,
     "metadata": {},
     "output_type": "execute_result"
    }
   ],
   "source": [
    "X_map['#gopatriots'].head()"
   ]
  },
  {
   "cell_type": "code",
   "execution_count": 24,
   "metadata": {},
   "outputs": [
    {
     "name": "stdout",
     "output_type": "stream",
     "text": [
      "#gopatriots\n",
      "                            OLS Regression Results                            \n",
      "==============================================================================\n",
      "Dep. Variable:                      y   R-squared:                       0.768\n",
      "Model:                            OLS   Adj. R-squared:                  0.765\n",
      "Method:                 Least Squares   F-statistic:                     364.8\n",
      "Date:                Thu, 08 Mar 2018   Prob (F-statistic):          1.61e-138\n",
      "Time:                        14:10:47   Log-Likelihood:                -2919.9\n",
      "No. Observations:                 446   AIC:                             5848.\n",
      "Df Residuals:                     442   BIC:                             5864.\n",
      "Df Model:                           4                                         \n",
      "Covariance Type:            nonrobust                                         \n",
      "==============================================================================\n",
      "                 coef    std err          t      P>|t|      [0.025      0.975]\n",
      "------------------------------------------------------------------------------\n",
      "x1            -0.0029      0.000    -16.289      0.000      -0.003      -0.003\n",
      "x2             0.0026      0.000     15.404      0.000       0.002       0.003\n",
      "x3             2.9487      0.145     20.395      0.000       2.665       3.233\n",
      "x4            -1.2794      0.621     -2.059      0.040      -2.501      -0.058\n",
      "==============================================================================\n",
      "Omnibus:                      484.081   Durbin-Watson:                   2.149\n",
      "Prob(Omnibus):                  0.000   Jarque-Bera (JB):           102767.767\n",
      "Skew:                           4.286   Prob(JB):                         0.00\n",
      "Kurtosis:                      76.869   Cond. No.                     3.68e+04\n",
      "==============================================================================\n",
      "\n",
      "Warnings:\n",
      "[1] Standard Errors assume that the covariance matrix of the errors is correctly specified.\n",
      "[2] The condition number is large, 3.68e+04. This might indicate that there are\n",
      "strong multicollinearity or other numerical problems.\n",
      "#nfl\n",
      "                            OLS Regression Results                            \n",
      "==============================================================================\n",
      "Dep. Variable:                      y   R-squared:                       0.644\n",
      "Model:                            OLS   Adj. R-squared:                  0.642\n",
      "Method:                 Least Squares   F-statistic:                     261.7\n",
      "Date:                Thu, 08 Mar 2018   Prob (F-statistic):          3.63e-128\n",
      "Time:                        14:10:47   Log-Likelihood:                -4538.9\n",
      "No. Observations:                 582   AIC:                             9086.\n",
      "Df Residuals:                     578   BIC:                             9103.\n",
      "Df Model:                           4                                         \n",
      "Covariance Type:            nonrobust                                         \n",
      "==============================================================================\n",
      "                 coef    std err          t      P>|t|      [0.025      0.975]\n",
      "------------------------------------------------------------------------------\n",
      "x1          3.577e-06   2.11e-05      0.169      0.866   -3.79e-05    4.51e-05\n",
      "x2          1.401e-05   3.17e-05      0.442      0.658   -4.82e-05    7.62e-05\n",
      "x3             0.4177      0.050      8.436      0.000       0.320       0.515\n",
      "x4            11.5880      2.152      5.385      0.000       7.362      15.814\n",
      "==============================================================================\n",
      "Omnibus:                      894.913   Durbin-Watson:                   2.422\n",
      "Prob(Omnibus):                  0.000   Jarque-Bera (JB):           442522.702\n",
      "Skew:                           8.408   Prob(JB):                         0.00\n",
      "Kurtosis:                     137.036   Cond. No.                     4.13e+05\n",
      "==============================================================================\n",
      "\n",
      "Warnings:\n",
      "[1] Standard Errors assume that the covariance matrix of the errors is correctly specified.\n",
      "[2] The condition number is large, 4.13e+05. This might indicate that there are\n",
      "strong multicollinearity or other numerical problems.\n",
      "#sb49\n",
      "                            OLS Regression Results                            \n",
      "==============================================================================\n",
      "Dep. Variable:                      y   R-squared:                       0.834\n",
      "Model:                            OLS   Adj. R-squared:                  0.833\n",
      "Method:                 Least Squares   F-statistic:                     672.8\n",
      "Date:                Thu, 08 Mar 2018   Prob (F-statistic):          2.49e-207\n",
      "Time:                        14:10:47   Log-Likelihood:                -5287.0\n",
      "No. Observations:                 540   AIC:                         1.058e+04\n",
      "Df Residuals:                     536   BIC:                         1.060e+04\n",
      "Df Model:                           4                                         \n",
      "Covariance Type:            nonrobust                                         \n",
      "==============================================================================\n",
      "                 coef    std err          t      P>|t|      [0.025      0.975]\n",
      "------------------------------------------------------------------------------\n",
      "x1         -5.037e-05   7.56e-06     -6.665      0.000   -6.52e-05   -3.55e-05\n",
      "x2             0.0003   4.55e-05      7.355      0.000       0.000       0.000\n",
      "x3             0.5549      0.029     18.911      0.000       0.497       0.613\n",
      "x4           -36.5616     15.371     -2.379      0.018     -66.755      -6.368\n",
      "==============================================================================\n",
      "Omnibus:                      321.660   Durbin-Watson:                   1.682\n",
      "Prob(Omnibus):                  0.000   Jarque-Bera (JB):           116498.473\n",
      "Skew:                           1.314   Prob(JB):                         0.00\n",
      "Kurtosis:                      74.908   Cond. No.                     7.51e+06\n",
      "==============================================================================\n",
      "\n",
      "Warnings:\n",
      "[1] Standard Errors assume that the covariance matrix of the errors is correctly specified.\n",
      "[2] The condition number is large, 7.51e+06. This might indicate that there are\n",
      "strong multicollinearity or other numerical problems.\n",
      "#gohawks\n",
      "                            OLS Regression Results                            \n",
      "==============================================================================\n",
      "Dep. Variable:                      y   R-squared:                       0.453\n",
      "Model:                            OLS   Adj. R-squared:                  0.450\n",
      "Method:                 Least Squares   F-statistic:                     117.6\n",
      "Date:                Thu, 08 Mar 2018   Prob (F-statistic):           5.46e-73\n",
      "Time:                        14:10:47   Log-Likelihood:                -4768.8\n",
      "No. Observations:                 571   AIC:                             9546.\n",
      "Df Residuals:                     567   BIC:                             9563.\n",
      "Df Model:                           4                                         \n",
      "Covariance Type:            nonrobust                                         \n",
      "==============================================================================\n",
      "                 coef    std err          t      P>|t|      [0.025      0.975]\n",
      "------------------------------------------------------------------------------\n",
      "x1             0.0001   4.14e-05      3.302      0.001    5.54e-05       0.000\n",
      "x2             0.0002      0.000      1.821      0.069   -1.93e-05       0.001\n",
      "x3             0.1737      0.041      4.254      0.000       0.094       0.254\n",
      "x4             6.7413      3.496      1.928      0.054      -0.126      13.609\n",
      "==============================================================================\n",
      "Omnibus:                      905.378   Durbin-Watson:                   2.203\n",
      "Prob(Omnibus):                  0.000   Jarque-Bera (JB):           561817.976\n",
      "Skew:                           8.830   Prob(JB):                         0.00\n",
      "Kurtosis:                     155.651   Cond. No.                     2.34e+05\n",
      "==============================================================================\n",
      "\n",
      "Warnings:\n",
      "[1] Standard Errors assume that the covariance matrix of the errors is correctly specified.\n",
      "[2] The condition number is large, 2.34e+05. This might indicate that there are\n",
      "strong multicollinearity or other numerical problems.\n",
      "#patriots\n",
      "                            OLS Regression Results                            \n",
      "==============================================================================\n",
      "Dep. Variable:                      y   R-squared:                       0.754\n",
      "Model:                            OLS   Adj. R-squared:                  0.752\n",
      "Method:                 Least Squares   F-statistic:                     446.4\n",
      "Date:                Thu, 08 Mar 2018   Prob (F-statistic):          1.03e-175\n",
      "Time:                        14:10:47   Log-Likelihood:                -5346.3\n",
      "No. Observations:                 586   AIC:                         1.070e+04\n",
      "Df Residuals:                     582   BIC:                         1.072e+04\n",
      "Df Model:                           4                                         \n",
      "Covariance Type:            nonrobust                                         \n",
      "==============================================================================\n",
      "                 coef    std err          t      P>|t|      [0.025      0.975]\n",
      "------------------------------------------------------------------------------\n",
      "x1         -3.211e-05    2.3e-05     -1.397      0.163   -7.73e-05     1.3e-05\n",
      "x2          9.672e-05   8.92e-05      1.084      0.279   -7.85e-05       0.000\n",
      "x3             0.6578      0.029     22.371      0.000       0.600       0.716\n",
      "x4            -6.7707      7.693     -0.880      0.379     -21.879       8.338\n",
      "==============================================================================\n",
      "Omnibus:                      265.457   Durbin-Watson:                   1.767\n",
      "Prob(Omnibus):                  0.000   Jarque-Bera (JB):           135054.855\n",
      "Skew:                          -0.511   Prob(JB):                         0.00\n",
      "Kurtosis:                      77.365   Cond. No.                     7.69e+05\n",
      "==============================================================================\n",
      "\n",
      "Warnings:\n",
      "[1] Standard Errors assume that the covariance matrix of the errors is correctly specified.\n",
      "[2] The condition number is large, 7.69e+05. This might indicate that there are\n",
      "strong multicollinearity or other numerical problems.\n",
      "#superbowl\n",
      "                            OLS Regression Results                            \n",
      "==============================================================================\n",
      "Dep. Variable:                      y   R-squared:                       0.746\n",
      "Model:                            OLS   Adj. R-squared:                  0.744\n",
      "Method:                 Least Squares   F-statistic:                     425.3\n",
      "Date:                Thu, 08 Mar 2018   Prob (F-statistic):          7.31e-171\n",
      "Time:                        14:10:47   Log-Likelihood:                -6156.5\n",
      "No. Observations:                 584   AIC:                         1.232e+04\n",
      "Df Residuals:                     580   BIC:                         1.234e+04\n",
      "Df Model:                           4                                         \n",
      "Covariance Type:            nonrobust                                         \n",
      "==============================================================================\n",
      "                 coef    std err          t      P>|t|      [0.025      0.975]\n",
      "------------------------------------------------------------------------------\n",
      "x1             0.0002   1.77e-05     12.495      0.000       0.000       0.000\n",
      "x2            -0.0003      0.000     -1.694      0.091      -0.001    4.13e-05\n",
      "x3            -0.2291      0.041     -5.629      0.000      -0.309      -0.149\n",
      "x4            -5.8610     34.089     -0.172      0.864     -72.814      61.092\n",
      "==============================================================================\n",
      "Omnibus:                      666.196   Durbin-Watson:                   2.493\n",
      "Prob(Omnibus):                  0.000   Jarque-Bera (JB):           455064.149\n",
      "Skew:                           4.479   Prob(JB):                         0.00\n",
      "Kurtosis:                     139.459   Cond. No.                     1.10e+07\n",
      "==============================================================================\n",
      "\n",
      "Warnings:\n",
      "[1] Standard Errors assume that the covariance matrix of the errors is correctly specified.\n",
      "[2] The condition number is large, 1.1e+07. This might indicate that there are\n",
      "strong multicollinearity or other numerical problems.\n"
     ]
    }
   ],
   "source": [
    "for hashtag in hashtags:\n",
    "    print(hashtag)\n",
    "    model = stats_api.OLS(Y_map[hashtag].iloc[:-1].as_matrix(),X_map[hashtag].iloc[1:].as_matrix()).fit()\n",
    "    print(model.summary())\n",
    "    "
   ]
  },
  {
   "cell_type": "markdown",
   "metadata": {
    "collapsed": true
   },
   "source": [
    "# PART 3"
   ]
  },
  {
   "cell_type": "code",
   "execution_count": 81,
   "metadata": {
    "collapsed": true
   },
   "outputs": [],
   "source": [
    "hashtags2 = ['#gopatriots','#gohawks']"
   ]
  },
  {
   "cell_type": "code",
   "execution_count": 103,
   "metadata": {
    "collapsed": true
   },
   "outputs": [],
   "source": [
    "from textblob import TextBlob as tb\n",
    "import re\n",
    "i=0\n",
    "def clean_tweet(t):\n",
    "    return ' '.join(re.sub(\"(@[A-Za-z0-9]+)|([^0-9A-Za-z \\t])|(\\w+:\\/\\/\\S+)\", \" \", t).split())\n",
    "def get_sentiment(t):\n",
    "    global i\n",
    "    i+=1\n",
    "    if(i%10000 == 0):\n",
    "        print(i)\n",
    "    analysis = tb(clean_tweet(t))\n",
    "    return analysis.sentiment.polarity*analysis.sentiment.subjectivity\n",
    "def get_time_bin(t):\n",
    "    return datetime.datetime.fromtimestamp(int(t/3600)*3600, pst_tz)    "
   ]
  },
  {
   "cell_type": "code",
   "execution_count": null,
   "metadata": {
    "scrolled": true
   },
   "outputs": [
    {
     "name": "stdout",
     "output_type": "stream",
     "text": [
      "220000\n",
      "230000\n",
      "240000\n",
      "haha\n",
      "250000\n",
      "260000\n",
      "270000\n",
      "280000\n",
      "290000\n",
      "300000\n",
      "310000\n",
      "320000\n",
      "330000\n",
      "340000\n",
      "350000\n",
      "360000\n",
      "370000\n",
      "380000\n",
      "390000\n",
      "400000\n",
      "410000\n",
      "420000\n",
      "430000\n",
      "440000\n",
      "450000\n",
      "460000\n",
      "470000\n",
      "480000\n",
      "490000\n",
      "500000\n",
      "haha\n",
      "510000\n",
      "520000\n",
      "530000\n",
      "540000\n",
      "550000\n",
      "560000\n",
      "570000\n",
      "580000\n",
      "590000\n",
      "600000\n",
      "610000\n",
      "620000\n",
      "630000\n",
      "640000\n",
      "650000\n",
      "660000\n",
      "670000\n",
      "680000\n",
      "690000\n",
      "700000\n",
      "710000\n",
      "720000\n",
      "730000\n",
      "740000\n",
      "750000\n",
      "760000\n",
      "770000\n",
      "780000\n",
      "790000\n",
      "800000\n",
      "810000\n",
      "820000\n",
      "830000\n",
      "840000\n",
      "850000\n",
      "860000\n",
      "870000\n",
      "880000\n",
      "890000\n",
      "900000\n",
      "910000\n",
      "920000\n",
      "930000\n",
      "940000\n",
      "950000\n",
      "960000\n",
      "970000\n",
      "980000\n",
      "990000\n",
      "1000000\n",
      "1010000\n",
      "1020000\n",
      "1030000\n",
      "1040000\n",
      "1050000\n",
      "1060000\n",
      "1070000\n",
      "1080000\n",
      "1090000\n",
      "1100000\n",
      "1110000\n",
      "1120000\n",
      "1130000\n",
      "1140000\n",
      "1150000\n",
      "1160000\n",
      "1170000\n",
      "1180000\n",
      "1190000\n",
      "1200000\n",
      "1210000\n",
      "1220000\n",
      "1230000\n",
      "1240000\n",
      "1250000\n",
      "1260000\n",
      "1270000\n",
      "1280000\n",
      "1290000\n",
      "1300000\n",
      "1310000\n",
      "1320000\n",
      "1330000\n",
      "haha\n",
      "1340000\n",
      "1350000\n",
      "1360000\n",
      "1370000\n",
      "1380000\n",
      "1390000\n",
      "1400000\n",
      "1410000\n",
      "1420000\n",
      "1430000\n",
      "1440000\n",
      "1450000\n",
      "1460000\n",
      "1470000\n",
      "1480000\n",
      "1490000\n",
      "1500000\n",
      "1510000\n",
      "haha\n",
      "1520000\n",
      "1530000\n",
      "1540000\n",
      "1550000\n",
      "1560000\n",
      "1570000\n",
      "1580000\n",
      "1590000\n",
      "1600000\n",
      "1610000\n",
      "1620000\n",
      "1630000\n",
      "1640000\n",
      "1650000\n",
      "1660000\n",
      "1670000\n",
      "1680000\n",
      "1690000\n",
      "1700000\n",
      "1710000\n",
      "1720000\n",
      "1730000\n",
      "1740000\n",
      "1750000\n",
      "1760000\n",
      "1770000\n",
      "1780000\n",
      "1790000\n",
      "1800000\n",
      "1810000\n",
      "1820000\n",
      "1830000\n",
      "1840000\n",
      "1850000\n",
      "1860000\n",
      "1870000\n",
      "1880000\n",
      "1890000\n",
      "1900000\n",
      "1910000\n",
      "1920000\n",
      "1930000\n",
      "1940000\n",
      "1950000\n",
      "1960000\n",
      "1970000\n",
      "1980000\n",
      "1990000\n",
      "2000000\n",
      "haha\n",
      "2010000\n",
      "2020000\n",
      "2030000\n",
      "2040000\n",
      "2050000\n",
      "2060000\n",
      "2070000\n",
      "2080000\n",
      "2090000\n",
      "2100000\n",
      "2110000\n",
      "2120000\n",
      "2130000\n",
      "2140000\n",
      "2150000\n",
      "2160000\n",
      "2170000\n",
      "2180000\n",
      "2190000\n",
      "2200000\n",
      "2210000\n",
      "2220000\n",
      "2230000\n",
      "2240000\n",
      "2250000\n",
      "2260000\n",
      "2270000\n",
      "2280000\n",
      "2290000\n",
      "2300000\n",
      "2310000\n",
      "2320000\n",
      "2330000\n",
      "2340000\n",
      "2350000\n",
      "2360000\n",
      "2370000\n",
      "2380000\n",
      "2390000\n",
      "2400000\n",
      "2410000\n",
      "2420000\n",
      "2430000\n",
      "2440000\n",
      "2450000\n",
      "2460000\n",
      "2470000\n",
      "2480000\n",
      "2490000\n",
      "2500000\n",
      "2510000\n",
      "2520000\n",
      "2530000\n",
      "2540000\n",
      "2550000\n",
      "2560000\n",
      "2570000\n",
      "2580000\n",
      "2590000\n",
      "2600000\n",
      "2610000\n",
      "2620000\n",
      "2630000\n",
      "2640000\n",
      "2650000\n",
      "2660000\n",
      "2670000\n",
      "2680000\n",
      "2690000\n",
      "2700000\n",
      "2710000\n",
      "2720000\n",
      "2730000\n",
      "2740000\n",
      "2750000\n",
      "2760000\n",
      "2770000\n",
      "2780000\n",
      "2790000\n",
      "2800000\n",
      "2810000\n",
      "2820000\n",
      "2830000\n",
      "2840000\n",
      "2850000\n",
      "2860000\n",
      "2870000\n",
      "2880000\n",
      "2890000\n",
      "2900000\n",
      "2910000\n",
      "2920000\n",
      "2930000\n",
      "2940000\n"
     ]
    }
   ],
   "source": [
    "sentiment_map={}\n",
    "for hashtag in hashtags:\n",
    "    df = df_map[hashtag].copy()\n",
    "    #print(df.head())\n",
    "    df['sentiment'] = df['title'].apply(lambda x:get_sentiment(x))\n",
    "    #print(df.head())\n",
    "    df['timestamp'] = df['timestamp'].apply(lambda x:get_time_bin(x) )\n",
    "    print('haha')\n",
    "    grouped = df.groupby('timestamp').agg({'sentiment':'sum','tweet_id':'count'})\n",
    "    #print(grouped.head(10))\n",
    "    sentiment_map[hashtag]=grouped\n",
    "    \n",
    "    \n",
    "    "
   ]
  },
  {
   "cell_type": "code",
   "execution_count": 114,
   "metadata": {},
   "outputs": [
    {
     "data": {
      "image/png": "[encoded data removed]",
      "text/plain": [
       "<matplotlib.figure.Figure at 0x1c418e56d8>"
      ]
     },
     "metadata": {},
     "output_type": "display_data"
    },
    {
     "data": {
      "image/png": "[encoded data removed]",
      "text/plain": [
       "<matplotlib.figure.Figure at 0x1c35588390>"
      ]
     },
     "metadata": {},
     "output_type": "display_data"
    }
   ],
   "source": [
    "for hashtag in hashtags:\n",
    "    plt.title(\"Total Sentiment : subjectivity*polarity\")\n",
    "    plt.plot(sentiment_map[hashtag]['sentiment'],label=hashtag)\n",
    "    plt.legend()\n",
    "    plt.xticks(rotation=90)\n",
    "    plt.show()\n"
   ]
  },
  {
   "cell_type": "code",
   "execution_count": 98,
   "metadata": {},
   "outputs": [
    {
     "name": "stdout",
     "output_type": "stream",
     "text": [
      "26232\n"
     ]
    }
   ],
   "source": [
    "print(len(sentiment_map['#gopatriots']['sentiment']))"
   ]
  },
  {
   "cell_type": "markdown",
   "metadata": {},
   "source": [
    "### Average tweet sentiment"
   ]
  },
  {
   "cell_type": "code",
   "execution_count": 115,
   "metadata": {},
   "outputs": [
    {
     "data": {
      "image/png": "[encoded data removed]",
      "text/plain": [
       "<matplotlib.figure.Figure at 0x1c2201f518>"
      ]
     },
     "metadata": {},
     "output_type": "display_data"
    },
    {
     "data": {
      "image/png": "[encoded data removed]",
      "text/plain": [
       "<matplotlib.figure.Figure at 0x1c39dc1a58>"
      ]
     },
     "metadata": {},
     "output_type": "display_data"
    }
   ],
   "source": [
    "for hashtag in hashtags:\n",
    "    plt.title(\"Average Total Sentiment : subjectivity*polarity\")\n",
    "    plt.plot([(a/b) for a,b in zip(list(sentiment_map[hashtag]['sentiment']),list(sentiment_map[hashtag]['tweet_id'] ))],label=hashtag)\n",
    "    plt.legend()\n",
    "    plt.xticks(rotation=90)\n",
    "    plt.show()\n"
   ]
  },
  {
   "cell_type": "code",
   "execution_count": null,
   "metadata": {
    "collapsed": true
   },
   "outputs": [],
   "source": []
  }
 ],
 "metadata": {
  "kernelspec": {
   "display_name": "Python 3",
   "language": "python",
   "name": "python3"
  },
  "language_info": {
   "codemirror_mode": {
    "name": "ipython",
    "version": 3
   },
   "file_extension": ".py",
   "mimetype": "text/x-python",
   "name": "python",
   "nbconvert_exporter": "python",
   "pygments_lexer": "ipython3",
   "version": "3.6.3"
  }
 },
 "nbformat": 4,
 "nbformat_minor": 2
}

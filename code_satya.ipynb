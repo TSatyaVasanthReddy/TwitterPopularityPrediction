{
 "cells": [
  {
   "cell_type": "code",
   "execution_count": 7,
   "metadata": {
    "collapsed": true
   },
   "outputs": [],
   "source": [
    "import pandas as pd\n",
    "import matplotlib.pyplot as plt\n",
    "import calendar\n",
    "import json\n",
    "import numpy as np\n",
    "from sklearn.model_selection import KFold\n",
    "from sklearn.ensemble import RandomForestRegressor\n",
    "from sklearn import tree\n",
    "import collections\n",
    "from sklearn.linear_model import LinearRegression\n",
    "from sklearn.metrics import mean_squared_error,accuracy_score\n",
    "from sklearn.model_selection import cross_val_predict\n",
    "from sklearn.model_selection import train_test_split\n",
    "from sklearn.preprocessing import StandardScaler\n",
    "import itertools\n",
    "from sklearn.preprocessing import OneHotEncoder\n",
    "from sklearn.linear_model import Ridge,Lasso,ElasticNet\n",
    "from sklearn.model_selection import GridSearchCV"
   ]
  },
  {
   "cell_type": "code",
   "execution_count": null,
   "metadata": {
    "collapsed": true
   },
   "outputs": [],
   "source": [
    "hashtags = ['#gohawks.txt','#nfl.txt','#sb49.txt','#gopatriots.txt','#patriots.txt','#superbowl.txt']"
   ]
  },
  {
   "cell_type": "code",
   "execution_count": 4,
   "metadata": {},
   "outputs": [],
   "source": [
    "infile = open('tweet_data/tweets_#gopatriots.txt','r')\n",
    "firstLine = infile.readline()"
   ]
  },
  {
   "cell_type": "code",
   "execution_count": 8,
   "metadata": {},
   "outputs": [
    {
     "data": {
      "text/plain": [
       "{'author': {'author_img': 'http://pbs.twimg.com/profile_images/562109096519012352/49vxe_9q_normal.jpeg',\n",
       "  'description': \"I'm a die-hard Patriots, Suns, Badgers and Brewers fan #TeamPatriots | #PatsNation | #FuelTheFire | #GoSuns | #Brewcrew | #Bucks | #FeerTheDeer\",\n",
       "  'followers': 2895.0,\n",
       "  'image_url': 'http://pbs.twimg.com/profile_images/562109096519012352/49vxe_9q_normal.jpeg',\n",
       "  'name': 'Alex Kroll',\n",
       "  'nick': 'patsnation87',\n",
       "  'type': 'twitter',\n",
       "  'url': 'http://twitter.com/patsnation87'},\n",
       " 'citation_date': 1421257541,\n",
       " 'citation_url': 'http://twitter.com/Patsnation87/status/555420502970609664',\n",
       " 'firstpost_date': 1420835445,\n",
       " 'highlight': 'LeGarrette Blount does the Ray Lewis Dance #ThrowbackThursday https://t.co/F5FX5KVmdX\\nHope to see it at least 3 times tomorrow. \\n#GoPatriots',\n",
       " 'metrics': {'acceleration': 0,\n",
       "  'citations': {'data': [{'citations': 1, 'timestamp': 1421257499}],\n",
       "   'influential': 0,\n",
       "   'matching': 1,\n",
       "   'replies': 0,\n",
       "   'total': 6},\n",
       "  'impressions': 2695,\n",
       "  'momentum': 1,\n",
       "  'peak': 1421257559,\n",
       "  'ranking_score': 4.6402764},\n",
       " 'original_author': {'author_img': 'http://pbs.twimg.com/profile_images/551201267783983105/wWelNsyR_normal.jpeg',\n",
       "  'description': 'Follow me for News on Boston Sports Teams!  #GoPatriots #GoRedSox #GoBruins #GoCeltics\\r\\nHuge Boston Sports Fan',\n",
       "  'followers': 3811.0,\n",
       "  'image_url': 'http://pbs.twimg.com/profile_images/551201267783983105/wWelNsyR_normal.jpeg',\n",
       "  'name': 'Boston Sports Fan',\n",
       "  'nick': 'nesportsfan1106',\n",
       "  'type': 'twitter',\n",
       "  'url': 'http://twitter.com/nesportsfan1106'},\n",
       " 'title': 'LeGarrette Blount does the Ray Lewis Dance #ThrowbackThursday https://t.co/F5FX5KVmdX\\nHope to see it at least 3 times tomorrow. \\n#GoPatriots',\n",
       " 'tweet': {'contributors': None,\n",
       "  'coordinates': None,\n",
       "  'created_at': 'Fri Jan 09 20:30:45 +0000 2015',\n",
       "  'entities': {'hashtags': [{'indices': [43, 61], 'text': 'ThrowbackThursday'},\n",
       "    {'indices': [129, 140], 'text': 'GoPatriots'}],\n",
       "   'symbols': [],\n",
       "   'trends': [],\n",
       "   'urls': [{'display_url': 'vine.co/v/OphHATaAggX',\n",
       "     'expanded_url': 'https://vine.co/v/OphHATaAggX',\n",
       "     'indices': [62, 85],\n",
       "     'url': 'https://t.co/F5FX5KVmdX'}],\n",
       "   'user_mentions': []},\n",
       "  'favorite_count': 0,\n",
       "  'favorited': False,\n",
       "  'filter_level': 'medium',\n",
       "  'geo': None,\n",
       "  'id': 553650101105606656,\n",
       "  'id_str': '553650101105606656',\n",
       "  'in_reply_to_screen_name': None,\n",
       "  'in_reply_to_status_id': None,\n",
       "  'in_reply_to_status_id_str': None,\n",
       "  'in_reply_to_user_id': None,\n",
       "  'in_reply_to_user_id_str': None,\n",
       "  'lang': 'en',\n",
       "  'place': None,\n",
       "  'possibly_sensitive': False,\n",
       "  'retweet_count': 0,\n",
       "  'retweeted': False,\n",
       "  'source': '<a href=\"http://twitter.com/download/android\" rel=\"nofollow\">Twitter for Android</a>',\n",
       "  'text': 'LeGarrette Blount does the Ray Lewis Dance #ThrowbackThursday https://t.co/F5FX5KVmdX\\nHope to see it at least 3 times tomorrow. \\n#GoPatriots',\n",
       "  'timestamp_ms': '1420835445082',\n",
       "  'truncated': False,\n",
       "  'user': {'contributors_enabled': False,\n",
       "   'created_at': 'Sun Aug 12 15:43:27 +0000 2012',\n",
       "   'default_profile': True,\n",
       "   'default_profile_image': False,\n",
       "   'description': 'Follow me for News on Boston Sports Teams!  #GoPatriots #GoRedSox #GoBruins #GoCeltics\\r\\nHuge Boston Sports Fan',\n",
       "   'favourites_count': 8660,\n",
       "   'follow_request_sent': None,\n",
       "   'followers_count': 3317,\n",
       "   'following': None,\n",
       "   'friends_count': 2948,\n",
       "   'geo_enabled': True,\n",
       "   'id': 753321800,\n",
       "   'id_str': '753321800',\n",
       "   'is_translator': False,\n",
       "   'lang': 'en',\n",
       "   'listed_count': 42,\n",
       "   'location': 'Boston, Massachusetts',\n",
       "   'name': 'Boston Sports Fan',\n",
       "   'notifications': None,\n",
       "   'profile_background_color': 'C0DEED',\n",
       "   'profile_background_image_url': 'http://abs.twimg.com/images/themes/theme1/bg.png',\n",
       "   'profile_background_image_url_https': 'https://abs.twimg.com/images/themes/theme1/bg.png',\n",
       "   'profile_background_tile': False,\n",
       "   'profile_banner_url': 'https://pbs.twimg.com/profile_banners/753321800/1395953837',\n",
       "   'profile_image_url': 'http://pbs.twimg.com/profile_images/551201267783983105/wWelNsyR_normal.jpeg',\n",
       "   'profile_image_url_https': 'https://pbs.twimg.com/profile_images/551201267783983105/wWelNsyR_normal.jpeg',\n",
       "   'profile_link_color': '0084B4',\n",
       "   'profile_sidebar_border_color': 'C0DEED',\n",
       "   'profile_sidebar_fill_color': 'DDEEF6',\n",
       "   'profile_text_color': '333333',\n",
       "   'profile_use_background_image': True,\n",
       "   'protected': False,\n",
       "   'screen_name': 'NESportsFan1106',\n",
       "   'statuses_count': 31129,\n",
       "   'time_zone': 'Eastern Time (US & Canada)',\n",
       "   'url': None,\n",
       "   'utc_offset': -18000,\n",
       "   'verified': False}},\n",
       " 'type': 'retweet:native',\n",
       " 'url': 'http://twitter.com/NESportsFan1106/status/553650101105606656'}"
      ]
     },
     "execution_count": 8,
     "metadata": {},
     "output_type": "execute_result"
    }
   ],
   "source": [
    "json.loads(firstLine)"
   ]
  },
  {
   "cell_type": "code",
   "execution_count": null,
   "metadata": {
    "collapsed": true
   },
   "outputs": [],
   "source": []
  }
 ],
 "metadata": {
  "kernelspec": {
   "display_name": "Python 3",
   "language": "python",
   "name": "python3"
  },
  "language_info": {
   "codemirror_mode": {
    "name": "ipython",
    "version": 3
   },
   "file_extension": ".py",
   "mimetype": "text/x-python",
   "name": "python",
   "nbconvert_exporter": "python",
   "pygments_lexer": "ipython3",
   "version": "3.6.3"
  }
 },
 "nbformat": 4,
 "nbformat_minor": 2
}

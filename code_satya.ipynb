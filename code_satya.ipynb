{
 "cells": [
  {
   "cell_type": "code",
   "execution_count": 12,
   "metadata": {
    "collapsed": true
   },
   "outputs": [],
   "source": [
    "import pandas as pd\n",
    "import matplotlib.pyplot as plt\n",
    "import calendar\n",
    "import json\n",
    "import numpy as np\n",
    "from sklearn.model_selection import KFold\n",
    "from sklearn.ensemble import RandomForestRegressor\n",
    "from sklearn import tree\n",
    "import collections\n",
    "from sklearn.linear_model import LinearRegression\n",
    "from sklearn.metrics import mean_squared_error,accuracy_score\n",
    "from sklearn.model_selection import cross_val_predict\n",
    "from sklearn.model_selection import train_test_split\n",
    "from sklearn.preprocessing import StandardScaler\n",
    "import itertools\n",
    "from sklearn.preprocessing import OneHotEncoder\n",
    "from sklearn.linear_model import Ridge,Lasso,ElasticNet\n",
    "from sklearn.model_selection import GridSearchCV\n",
    "import datetime, time\n",
    "import pytz"
   ]
  },
  {
   "cell_type": "markdown",
   "metadata": {},
   "source": [
    "# 1. Popularity Prediction"
   ]
  },
  {
   "cell_type": "markdown",
   "metadata": {},
   "source": [
    "#### Initialize variables"
   ]
  },
  {
   "cell_type": "code",
   "execution_count": 48,
   "metadata": {
    "collapsed": true
   },
   "outputs": [],
   "source": [
    "hashtags = ['#gopatriots']#,'#nfl','#sb49','#gohawks','#patriots','#superbowl'] using only one tag\n",
    "df_map = {} # to store dfs for each file"
   ]
  },
  {
   "cell_type": "markdown",
   "metadata": {},
   "source": [
    "#### Reading files into dataframes and storing"
   ]
  },
  {
   "cell_type": "code",
   "execution_count": 55,
   "metadata": {},
   "outputs": [
    {
     "name": "stdout",
     "output_type": "stream",
     "text": [
      "Processing  #gopatriots\n",
      "0\n",
      "5000\n",
      "10000\n",
      "15000\n",
      "20000\n",
      "25000\n"
     ]
    }
   ],
   "source": [
    "df_columns = ['timestamp','tweet_id','author_id','followers','retweets']\n",
    "for hashtag in hashtags:\n",
    "    df = pd.DataFrame(columns=df_columns)\n",
    "    lno = 0\n",
    "    print(\"Processing \",hashtag)\n",
    "    with open(\"tweet_data/tweets_\"+hashtag+\".txt\", \"r\") as file_obj:\n",
    "        for line in file_obj:\n",
    "            if(lno%5000 == 0):\n",
    "                print(lno)\n",
    "            j = json.loads(line)\n",
    "            #must need columns\n",
    "            timestamp =j['citation_date']\n",
    "            followers =j['author']['followers']\n",
    "            retweets = j['metrics']['citations']['total']\n",
    "            #useful for later\n",
    "            author_id = j['author']['url']\n",
    "            tweet_id = j['tweet']['id']\n",
    "            df.loc[lno] = [timestamp,author_id, tweet_id,followers,retweets]\n",
    "            ##\n",
    "            #print(df.head())\n",
    "            lno+=1\n",
    "        df_map[hashtag] = df.copy()     \n",
    "        "
   ]
  },
  {
   "cell_type": "markdown",
   "metadata": {},
   "source": [
    "## 1.1 Statistics"
   ]
  },
  {
   "cell_type": "code",
   "execution_count": 102,
   "metadata": {},
   "outputs": [],
   "source": [
    "tweets_hrly = {}\n",
    "retweets_hrly = {}\n",
    "followers_hrly = {}\n",
    "tweets_cnt = {}\n",
    "retweets_cnt = {}\n",
    "followers_cnt = {}\n",
    "\n",
    "for hashtag in hashtags:\n",
    "    df = df_map[hashtag]\n",
    "    sec = df['timestamp'].max() - df['timestamp'].min()   \n",
    "    tweets_cnt[hashtag] = df['tweet_id'].count()\n",
    "    retweets_cnt[hashtag] = df['retweets'].sum()\n",
    "    followers_cnt[hashtag] = df['followers'].sum()\n",
    "    tweets_hrly[hashtag] = (tweets_cnt[hashtag]*3600)/sec\n",
    "    retweets_hrly[hashtag] = (retweets_cnt[hashtag]*3600)/sec\n",
    "    followers_hrly[hashtag] = (followers_cnt[hashtag]*3600)/sec    \n"
   ]
  },
  {
   "cell_type": "code",
   "execution_count": 103,
   "metadata": {},
   "outputs": [
    {
     "name": "stdout",
     "output_type": "stream",
     "text": [
      "Tweets Count :  {'#gopatriots': 26232}\n",
      "Tweets Avg. hourly {'#gopatriots': 45.694510573562027}\n",
      "Retweets Count :  {'#gopatriots': 36727}\n",
      "Retweets Avg. hourly {'#gopatriots': 63.976147065996216}\n",
      "Followers Count :  {'#gopatriots': 36774523.0}\n",
      "Followers Avg. hourly {'#gopatriots': 36774523.0}\n"
     ]
    }
   ],
   "source": [
    "print('Tweets Count : ',tweets_cnt)\n",
    "print('Tweets Avg. hourly',tweets_hrly)\n",
    "print('Retweets Count : ',retweets_cnt)\n",
    "print('Retweets Avg. hourly',retweets_hrly)\n",
    "\n",
    "print('Followers Count : ',followers_cnt)\n",
    "print('Followers Avg. hourly',followers_cnt)"
   ]
  },
  {
   "cell_type": "markdown",
   "metadata": {},
   "source": [
    "## 1.2 Linear Regression"
   ]
  },
  {
   "cell_type": "markdown",
   "metadata": {},
   "source": [
    "#### Returns the hour number from timestamp"
   ]
  },
  {
   "cell_type": "code",
   "execution_count": 65,
   "metadata": {
    "collapsed": true
   },
   "outputs": [],
   "source": [
    "pst_tz = pytz.timezone('US/Pacific') \n",
    "datetime.datetime.fromtimestamp(citation date, pst tz)\n",
    "def getHour(timestamp):\n",
    "    return int(timestamp/3600)"
   ]
  },
  {
   "cell_type": "code",
   "execution_count": 94,
   "metadata": {
    "scrolled": true
   },
   "outputs": [
    {
     "name": "stdout",
     "output_type": "stream",
     "text": [
      "     timestamp  followers_sum  followers_max  followers_count  retweets_sum\n",
      "0       394785        10955.0        10955.0                1             4\n",
      "1       394786         1762.0         1762.0                1             3\n",
      "2       394788         1168.0          600.0                2             3\n",
      "3       394789          465.0          431.0                2             3\n",
      "4       394790         2850.0         1425.0                2             3\n",
      "5       394791         1101.0         1101.0                1             1\n",
      "6       394792          712.0          712.0                1             1\n",
      "7       394793         2895.0         2895.0                1             6\n",
      "8       394794         4732.0         2874.0                5             5\n",
      "9       394795         1547.0         1425.0                3             3\n",
      "10      394796         1868.0         1230.0                3             5\n",
      "11      394798          158.0          158.0                1             4\n",
      "12      394799           81.0           81.0                1             2\n",
      "13      394800         1000.0         1000.0                1             1\n",
      "14      394801         1000.0          500.0                2             9\n",
      "15      394802         1147.0          548.0                3             4\n",
      "16      394804         5439.0         5111.0                4            38\n",
      "17      394808         1357.0         1357.0                1             4\n",
      "18      394809          466.0          466.0                1             1\n",
      "19      394810         1762.0         1762.0                1             1\n",
      "20      394811           29.0           29.0                1             1\n",
      "21      394812          387.0          387.0                1             1\n",
      "22      394813         4063.0         3811.0                3             3\n",
      "23      394814          265.0          265.0                1             1\n",
      "24      394815         1015.0          622.0                3             3\n",
      "25      394816         9834.0         3811.0                4             6\n",
      "26      394817        20896.0        20896.0                1             3\n",
      "27      394818         1440.0          745.0                3             5\n",
      "28      394819         5455.0         3811.0                3             6\n",
      "29      394820         1075.0         1025.0                2             2\n",
      "..         ...            ...            ...              ...           ...\n",
      "417     395254          149.0          115.0                2             3\n",
      "418     395255          254.0          180.0                2             2\n",
      "419     395256          707.0          412.0                4             5\n",
      "420     395257          424.0          179.0                4             6\n",
      "421     395258         1348.0         1348.0                1             1\n",
      "422     395259            3.0            3.0                1             1\n",
      "423     395260            4.0            4.0                1             1\n",
      "424     395261          841.0          841.0                1             1\n",
      "425     395262         1864.0         1666.0                2             2\n",
      "426     395266         1104.0         1104.0                1             1\n",
      "427     395269          147.0          147.0                1             1\n",
      "428     395270          730.0          730.0                1             1\n",
      "429     395271          287.0          287.0                1             1\n",
      "430     395274          428.0          428.0                1             1\n",
      "431     395275         1348.0         1348.0                1             1\n",
      "432     395277          412.0          412.0                1             1\n",
      "433     395281          127.0          119.0                2             2\n",
      "434     395282          170.0           90.0                2             3\n",
      "435     395288          626.0          313.0                2             2\n",
      "436     395289         1334.0         1334.0                1             1\n",
      "437     395292         1133.0         1133.0                1             2\n",
      "438     395294         2458.0         2458.0                1             1\n",
      "439     395296          610.0          513.0                2             2\n",
      "440     395297          194.0          194.0                1             1\n",
      "441     395298           71.0           71.0                1             1\n",
      "442     395300          858.0          854.0                2             2\n",
      "443     395304           24.0           24.0                1             1\n",
      "444     395325         3459.0         3459.0                1             1\n",
      "445     395341          854.0          854.0                1             1\n",
      "446     395359            0.0            0.0                1             1\n",
      "\n",
      "[447 rows x 5 columns]\n"
     ]
    }
   ],
   "source": [
    "for hashtag in hashtags:\n",
    "    df = df_map[hashtag].copy()\n",
    "    df['timestamp'] = df['timestamp'].apply(lambda x:getHour(x) )\n",
    "    grouped = df.groupby('timestamp').agg({'followers': ['sum', 'max', 'count'], 'retweets':'sum'})\n",
    "    grouped.columns = [\"_\".join(x) for x in grouped.columns.ravel()]\n",
    "    #grouped.columns=grouped.columns.droplevel()\n",
    "    grouped.reset_index(inplace=True)\n",
    "    print(grouped)\n",
    "    "
   ]
  },
  {
   "cell_type": "code",
   "execution_count": null,
   "metadata": {
    "collapsed": true
   },
   "outputs": [],
   "source": []
  }
 ],
 "metadata": {
  "kernelspec": {
   "display_name": "Python 3",
   "language": "python",
   "name": "python3"
  },
  "language_info": {
   "codemirror_mode": {
    "name": "ipython",
    "version": 3
   },
   "file_extension": ".py",
   "mimetype": "text/x-python",
   "name": "python",
   "nbconvert_exporter": "python",
   "pygments_lexer": "ipython3",
   "version": "3.6.3"
  }
 },
 "nbformat": 4,
 "nbformat_minor": 2
}

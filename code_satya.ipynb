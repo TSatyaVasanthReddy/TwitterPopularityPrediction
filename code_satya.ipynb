{
 "cells": [
  {
   "cell_type": "code",
   "execution_count": 148,
   "metadata": {},
   "outputs": [],
   "source": [
    "import pandas as pd\n",
    "import matplotlib.pyplot as plt\n",
    "import calendar\n",
    "import json\n",
    "import numpy as np\n",
    "from sklearn.model_selection import KFold\n",
    "from sklearn.ensemble import RandomForestRegressor\n",
    "from sklearn import tree\n",
    "import collections\n",
    "from sklearn.linear_model import LinearRegression\n",
    "from sklearn.metrics import mean_squared_error,accuracy_score\n",
    "from sklearn.model_selection import cross_val_predict\n",
    "from sklearn.model_selection import train_test_split\n",
    "from sklearn.preprocessing import StandardScaler\n",
    "import itertools\n",
    "from sklearn.preprocessing import OneHotEncoder\n",
    "from sklearn.linear_model import Ridge,Lasso,ElasticNet\n",
    "from sklearn.model_selection import GridSearchCV\n",
    "import datetime, time\n",
    "import pytz\n",
    "import statsmodels.api as stats_api\n"
   ]
  },
  {
   "cell_type": "markdown",
   "metadata": {},
   "source": [
    "# 1. Popularity Prediction"
   ]
  },
  {
   "cell_type": "markdown",
   "metadata": {},
   "source": [
    "#### Initialize variables"
   ]
  },
  {
   "cell_type": "code",
   "execution_count": 48,
   "metadata": {
    "collapsed": true
   },
   "outputs": [],
   "source": [
    "hashtags = ['#gopatriots']#,'#nfl','#sb49','#gohawks','#patriots','#superbowl'] using only one tag\n",
    "df_map = {} # to store dfs for each file"
   ]
  },
  {
   "cell_type": "markdown",
   "metadata": {},
   "source": [
    "#### Reading files into dataframes and storing"
   ]
  },
  {
   "cell_type": "code",
   "execution_count": 55,
   "metadata": {},
   "outputs": [
    {
     "name": "stdout",
     "output_type": "stream",
     "text": [
      "Processing  #gopatriots\n",
      "0\n",
      "5000\n",
      "10000\n",
      "15000\n",
      "20000\n",
      "25000\n"
     ]
    }
   ],
   "source": [
    "df_columns = ['timestamp','tweet_id','author_id','followers','retweets']\n",
    "for hashtag in hashtags:\n",
    "    df = pd.DataFrame(columns=df_columns)\n",
    "    lno = 0\n",
    "    print(\"Processing \",hashtag)\n",
    "    with open(\"tweet_data/tweets_\"+hashtag+\".txt\", \"r\") as file_obj:\n",
    "        for line in file_obj:\n",
    "            if(lno%5000 == 0):\n",
    "                print(lno)\n",
    "            j = json.loads(line)\n",
    "            #must need columns\n",
    "            timestamp =j['citation_date']\n",
    "            followers =j['author']['followers']\n",
    "            retweets = j['metrics']['citations']['total']\n",
    "            #useful for later\n",
    "            author_id = j['author']['url']\n",
    "            tweet_id = j['tweet']['id']\n",
    "            df.loc[lno] = [timestamp,author_id, tweet_id,followers,retweets]\n",
    "            ##\n",
    "            #print(df.head())\n",
    "            lno+=1\n",
    "        df_map[hashtag] = df.copy()     \n",
    "        "
   ]
  },
  {
   "cell_type": "markdown",
   "metadata": {},
   "source": [
    "## 1.1 Statistics"
   ]
  },
  {
   "cell_type": "code",
   "execution_count": 102,
   "metadata": {},
   "outputs": [],
   "source": [
    "tweets_hrly = {}\n",
    "retweets_hrly = {}\n",
    "followers_hrly = {}\n",
    "tweets_cnt = {}\n",
    "retweets_cnt = {}\n",
    "followers_cnt = {}\n",
    "\n",
    "for hashtag in hashtags:\n",
    "    df = df_map[hashtag]\n",
    "    sec = df['timestamp'].max() - df['timestamp'].min()   \n",
    "    tweets_cnt[hashtag] = df['tweet_id'].count()\n",
    "    retweets_cnt[hashtag] = df['retweets'].sum()\n",
    "    followers_cnt[hashtag] = df['followers'].sum()\n",
    "    tweets_hrly[hashtag] = (tweets_cnt[hashtag]*3600)/sec\n",
    "    retweets_hrly[hashtag] = (retweets_cnt[hashtag]*3600)/sec\n",
    "    followers_hrly[hashtag] = (followers_cnt[hashtag]*3600)/sec    \n"
   ]
  },
  {
   "cell_type": "code",
   "execution_count": 103,
   "metadata": {},
   "outputs": [
    {
     "name": "stdout",
     "output_type": "stream",
     "text": [
      "Tweets Count :  {'#gopatriots': 26232}\n",
      "Tweets Avg. hourly {'#gopatriots': 45.694510573562027}\n",
      "Retweets Count :  {'#gopatriots': 36727}\n",
      "Retweets Avg. hourly {'#gopatriots': 63.976147065996216}\n",
      "Followers Count :  {'#gopatriots': 36774523.0}\n",
      "Followers Avg. hourly {'#gopatriots': 36774523.0}\n"
     ]
    }
   ],
   "source": [
    "print('Tweets Count : ',tweets_cnt)\n",
    "print('Tweets Avg. hourly',tweets_hrly)\n",
    "print('Retweets Count : ',retweets_cnt)\n",
    "print('Retweets Avg. hourly',retweets_hrly)\n",
    "\n",
    "print('Followers Count : ',followers_cnt)\n",
    "print('Followers Avg. hourly',followers_cnt)"
   ]
  },
  {
   "cell_type": "markdown",
   "metadata": {},
   "source": [
    "## 1.2 Linear Regression"
   ]
  },
  {
   "cell_type": "markdown",
   "metadata": {},
   "source": [
    "#### K-fold cross validation from our previous project"
   ]
  },
  {
   "cell_type": "code",
   "execution_count": 143,
   "metadata": {
    "collapsed": true
   },
   "outputs": [],
   "source": [
    "def perform_10fold(X,y,regressor, print_ = False,shuffle_= True):\n",
    "    kf = KFold(n_splits=10,shuffle=shuffle_, random_state=0)\n",
    "    i = 1\n",
    "    bestModel = None\n",
    "    tr_e = 0\n",
    "    ts_e = 0\n",
    "    min_ts_e = 10\n",
    "    for train_index, test_index in kf.split(X):\n",
    "        X_train, X_test = X[train_index], X[test_index]\n",
    "        y_train, y_test = y[train_index], y[test_index]\n",
    "        regressor.fit(X_train,y_train)\n",
    "        train_preds = regressor.predict(X_train)\n",
    "        test_preds = regressor.predict(X_test)\n",
    "        test_error = mean_squared_error(y_test,test_preds)\n",
    "        tr_e += mean_squared_error(y_train,train_preds)\n",
    "        ts_e += test_error\n",
    "        if(print_):\n",
    "            print(\"Fold : \",i)\n",
    "            print(\"Training RMSE : \",np.sqrt(mean_squared_error(y_train,train_preds)))\n",
    "            print(\"Test RMSE : \",np.sqrt(test_error))\n",
    "        if(test_error<min_ts_e):\n",
    "            min_ts_e = test_error\n",
    "            bestModel = regressor\n",
    "        i = i+1\n",
    "    return np.sqrt(tr_e/10),np.sqrt(ts_e/10), bestModel"
   ]
  },
  {
   "cell_type": "markdown",
   "metadata": {},
   "source": [
    "#### Returns the hour number from timestamp"
   ]
  },
  {
   "cell_type": "code",
   "execution_count": 122,
   "metadata": {},
   "outputs": [],
   "source": [
    "pst_tz = pytz.timezone('US/Mountain')\n",
    "def getHourofDay(timestamp):\n",
    "    print(timestamp)\n",
    "    return datetime.datetime.fromtimestamp(timestamp, pst_tz).hour\n",
    "\n",
    "    \n",
    "def getHour(timestamp):\n",
    "    return int(timestamp/3600)"
   ]
  },
  {
   "cell_type": "code",
   "execution_count": 140,
   "metadata": {
    "scrolled": true
   },
   "outputs": [],
   "source": [
    "X_map = {}\n",
    "Y_map = {}\n",
    "for hashtag in hashtags:\n",
    "    df = df_map[hashtag].copy()\n",
    "    df['timestamp'] = df['timestamp'].apply(lambda x:getHour(x) )\n",
    "    grouped = df.groupby('timestamp').agg({'followers': ['sum', 'max'],'tweet_id':'count', 'retweets':'sum'})\n",
    "    grouped.columns = [\"_\".join(x) for x in grouped.columns.ravel()]\n",
    "    #grouped.columns=grouped.columns.droplevel()\n",
    "    grouped.reset_index(inplace=True)\n",
    "    grouped['hour_of_day','tweet'] = grouped.apply(lambda x: getHourofDay(x['timestamp']*3600), axis=1)\n",
    "    X_map[hashtag] = grouped.drop(['timestamp','tweet_id_count'],axis=1)\n",
    "    Y_map[hashtag] = grouped['tweet_id_count']\n",
    "    #print(grouped)\n",
    "    "
   ]
  },
  {
   "cell_type": "code",
   "execution_count": 155,
   "metadata": {},
   "outputs": [
    {
     "name": "stdout",
     "output_type": "stream",
     "text": [
      "                            OLS Regression Results                            \n",
      "==============================================================================\n",
      "Dep. Variable:         tweet_id_count   R-squared:                       0.990\n",
      "Model:                            OLS   Adj. R-squared:                  0.990\n",
      "Method:                 Least Squares   F-statistic:                 1.129e+04\n",
      "Date:                Tue, 06 Mar 2018   Prob (F-statistic):               0.00\n",
      "Time:                        17:16:38   Log-Likelihood:                -2216.2\n",
      "No. Observations:                 447   AIC:                             4440.\n",
      "Df Residuals:                     443   BIC:                             4457.\n",
      "Df Model:                           4                                         \n",
      "Covariance Type:            nonrobust                                         \n",
      "============================================================================================\n",
      "                               coef    std err          t      P>|t|      [0.025      0.975]\n",
      "--------------------------------------------------------------------------------------------\n",
      "followers_sum                0.0002   3.61e-05      5.913      0.000       0.000       0.000\n",
      "followers_max               -0.0003   3.49e-05     -7.313      0.000      -0.000      -0.000\n",
      "retweets_sum                 0.6181      0.030     20.943      0.000       0.560       0.676\n",
      "('hour_of_day', 'tweet')    -0.1833      0.127     -1.445      0.149      -0.433       0.066\n",
      "==============================================================================\n",
      "Omnibus:                      475.450   Durbin-Watson:                   1.742\n",
      "Prob(Omnibus):                  0.000   Jarque-Bera (JB):           102393.944\n",
      "Skew:                          -4.123   Prob(JB):                         0.00\n",
      "Kurtosis:                      76.686   Cond. No.                     3.68e+04\n",
      "==============================================================================\n",
      "\n",
      "Warnings:\n",
      "[1] Standard Errors assume that the covariance matrix of the errors is correctly specified.\n",
      "[2] The condition number is large, 3.68e+04. This might indicate that there are\n",
      "strong multicollinearity or other numerical problems.\n"
     ]
    }
   ],
   "source": [
    "for hashtag in hashtags:\n",
    "    model = stats_api.OLS(Y_map['#gopatriots'],X_map['#gopatriots']).fit()\n",
    "    print(model.summary())\n",
    "    "
   ]
  },
  {
   "cell_type": "code",
   "execution_count": null,
   "metadata": {
    "collapsed": true
   },
   "outputs": [],
   "source": []
  }
 ],
 "metadata": {
  "kernelspec": {
   "display_name": "Python 3",
   "language": "python",
   "name": "python3"
  },
  "language_info": {
   "codemirror_mode": {
    "name": "ipython",
    "version": 3
   },
   "file_extension": ".py",
   "mimetype": "text/x-python",
   "name": "python",
   "nbconvert_exporter": "python",
   "pygments_lexer": "ipython3",
   "version": "3.6.4"
  }
 },
 "nbformat": 4,
 "nbformat_minor": 2
}
